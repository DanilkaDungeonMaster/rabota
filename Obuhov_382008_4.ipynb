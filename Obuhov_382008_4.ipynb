{
  "nbformat": 4,
  "nbformat_minor": 0,
  "metadata": {
    "colab": {
      "name": "Obuhov_382008_4.ipynb",
      "provenance": []
    },
    "kernelspec": {
      "name": "python3",
      "display_name": "Python 3"
    },
    "language_info": {
      "name": "python"
    }
  },
  "cells": [
    {
      "cell_type": "markdown",
      "metadata": {
        "id": "04GD4F7X3wBq"
      },
      "source": [
        "# **Задача**\n",
        "Требуется определить внешний $R$ и внутренний $r$ радиусы цилиндрической трубы, если известны ее длина $\\ell$, толщина $h=R-r$, плотность $\\rho$ и момент инерции относительно ее продольной оси $I$.\n",
        "\n",
        "Момент инерции для цилиндрической трубы вычисляется по формуле$$\n",
        "I = \\frac{\\pi\\rho \\ell}{2} (R^4 - r^4)\n",
        "$$и задача сводится к решению кубического уравнения.\n",
        "\n",
        "Выведите это кубическое уравнение\n",
        "\n",
        "Решите его численно (см. scipy.optimize.brentq или другой метод) для значений: $\\ell = 2$, $h=0.02$, $\\rho = 1200$, $I = 1.2$. Сколько вещественных корней имеет уравнение?\n",
        "\n",
        "Построить график зависимости $r$ от $I$ при значениях $\\ell$, $h$, $\\rho$, указанных выше."
      ]
    },
    {
      "cell_type": "markdown",
      "metadata": {
        "id": "hw02r0rT4os3"
      },
      "source": [
        "# **Решение**\n",
        "Сначала я привел уравнение в нормальный, понятный нам вид, относительно одной неизвестной. Решил эту уравнение численно."
      ]
    },
    {
      "cell_type": "code",
      "metadata": {
        "colab": {
          "base_uri": "https://localhost:8080/"
        },
        "id": "lGHj_PnawXzJ",
        "outputId": "cb7f721b-7ae1-4ac7-cf7b-de12512c3e5e"
      },
      "source": [
        "from matplotlib import pyplot as plt\n",
        "import numpy as np\n",
        "r=[0, 0, 0]\n",
        "c=0\n",
        "l = 2\n",
        "h = 0.02\n",
        "p = 1200\n",
        "I = 1.2\n ",
        "pi = 3.14\n",
        "Koef=(pi*p*l*h*0.5)\n",
        "coeff = [ 4*Koef, 6*h*Koef, 4*(h**2)*Koef, ((h**3)*Koef-I)]\n",
        "#coeff = [ (2*pi*p*l*h**3), (pi*p*l*h**2*(h+1)), 0, (I-(0.5*pi*p*l*h**4))]\n",
        "#coeff = [1, 3, -5, -4]\n",
        "\n",
        "res=np.roots(coeff)\n",
        "\n",
        "for i in range(len(res)):\n",
        "    if (float((res[i]).imag)==0):\n",
        "        r[i]=(res[i]).real\n",
        "        c+=1\n",
        "#        print('Внутренний радиус r = ', (res[i]).real)\n",
        "print('Колличество действительных корней: ',c)\n",
        "c=0\n",
        "\n",
        "for i in range(len(r)):\n",
        "    if r[i]!=0:\n",
        "        c+=1\n",
        "        print(c,') ' 'Внутренний радиус r = ', r[i])\n",
        "        print('    Внешний радиус R = ', r[i]+h)\n",
        "\n"
      ],
      "execution_count": 1,
      "outputs": [
        {
          "output_type": "stream",
          "name": "stdout",
          "text": [
            "Колличество действительных корней:  1\n",
            "1 ) Внутренний радиус r =  0.14827660859483766\n",
            "    Внешний радиус R =  0.16827660859483765\n"
          ]
        }
      ]
    },
    {
      "cell_type": "markdown",
      "metadata": {
        "id": "OGPH693k54s0"
      },
      "source": [
        "Добавил график зависимости момента инерции от радиуса внутреннего."
      ]
    },
    {
      "cell_type": "code",
      "metadata": {
        "colab": {
          "base_uri": "https://localhost:8080/",
          "height": 298
        },
        "id": "6oQ4H62T5yqt",
        "outputId": "fbebc9ed-05bb-426e-92e2-f57fa05409cd"
      },
      "source": [
        "ur=np.poly1d(coeff)\n",
        "x=np.linspace(-0.25,0.25,1000)\n",
        "#y=4*Koef*x**3+6*h*Koef*x**2+4*(h**2)*Koef*x+(h**3)*Koef-I\n",
        "#y=(4*Koef(x**3) + 6*h*Koef(x**2) + 4*(h**2)*Koef*x + ((h**3)*Koef-I))\n",
        "y=ur(x)\n",
        "plt.grid()\n",
        "plt.plot(x,y)\n",
        "plt.show()\n",
        "res"
      ],
      "execution_count": 2,
      "outputs": [
        {
          "output_type": "display_data",
          "data": {
            "image/png": "[encoded data removed]",
            "text/plain": [
              "<Figure size 432x288 with 1 Axes>"
            ]
          },
          "metadata": {
            "needs_background": "light"
          }
        },
        {
          "output_type": "execute_result",
          "data": {
            "text/plain": [
              "array([-0.0891383 +0.13743585j, -0.0891383 -0.13743585j,\n",
              "        0.14827661+0.j        ])"
            ]
          },
          "metadata": {},
          "execution_count": 2
        }
      ]
    }
  ]
}
